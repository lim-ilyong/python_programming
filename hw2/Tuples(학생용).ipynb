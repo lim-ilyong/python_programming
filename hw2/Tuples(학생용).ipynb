{
  "cells": [
    {
      "cell_type": "markdown",
      "metadata": {
        "id": "view-in-github",
        "colab_type": "text"
      },
      "source": [
        "<a href=\"https://colab.research.google.com/github/lim-ilyong/python_programming/blob/main/hw2/Tuples(%ED%95%99%EC%83%9D%EC%9A%A9).ipynb\" target=\"_parent\"><img src=\"https://colab.research.google.com/assets/colab-badge.svg\" alt=\"Open In Colab\"/></a>"
      ]
    },
    {
      "cell_type": "markdown",
      "metadata": {
        "id": "3KjYlrKNTSkU"
      },
      "source": [
        "<h1>Tuples in Python</h1>"
      ]
    },
    {
      "cell_type": "markdown",
      "metadata": {
        "id": "yqD0LR8aTSkU"
      },
      "source": [
        "<p><strong>Welcome!</strong> This notebook will teach you about the tuples in the Python Programming Language. By the end of this lab, you'll know the basics tuple operations in Python, including indexing, slicing and sorting.</p>"
      ]
    },
    {
      "cell_type": "markdown",
      "metadata": {
        "id": "cNgWjOtcTSkV"
      },
      "source": [
        "<h2 id=\"dataset\">About the Dataset</h2> <p><strong>We will use this dataset later in full in this course.</p>"
      ]
    },
    {
      "cell_type": "markdown",
      "metadata": {
        "id": "03eEYHEaTSkV"
      },
      "source": [
        "Imagine you received album recommendations from your friends and compiled all of the recommandations into a table, with specific information about each album.\n",
        "\n",
        "The table has one row for each movie and several columns:\n",
        "\n",
        "- **artist** - Name of the artist\n",
        "- **album** - Name of the album\n",
        "- **released_year** - Year the album was released\n",
        "- **length_min_sec** - Length of the album (hours,minutes,seconds)\n",
        "- **genre** - Genre of the album\n",
        "- **music_recording_sales_millions** - Music recording sales (millions in USD)\n",
        "- **claimed_sales_millions** - Album's claimed sales (millions in USD) on\n",
        "- **date_released** - Date on which the album was released\n",
        "- **soundtrack** - Indicates if the album is the movie soundtrack (Y) or (N)\n",
        "- **rating_of_friends** - Indicates the rating from your friends from 1 to 10\n",
        "<br>\n",
        "<br>\n",
        "\n",
        "The dataset can be seen below:\n",
        "\n",
        "<font size=\"1\">\n",
        "<table font-size:xx-small style=\"width:25%\">\n",
        "  <tr>\n",
        "    <th>Artist</th>\n",
        "    <th>Album</th>\n",
        "    <th>Released</th>\n",
        "    <th>Length</th>\n",
        "    <th>Genre</th>\n",
        "    <th>Music recording sales (millions)</th>\n",
        "    <th>Claimed sales (millions)</th>\n",
        "    <th>Released</th>\n",
        "    <th>Soundtrack</th>\n",
        "    <th>Rating (friends)</th>\n",
        "  </tr>\n",
        "  <tr>\n",
        "    <td>Michael Jackson</td>\n",
        "    <td>Thriller</td>\n",
        "    <td>1982</td>\n",
        "    <td>00:42:19</td>\n",
        "    <td>Pop, rock, R&B</td>\n",
        "    <td>46</td>\n",
        "    <td>65</td>\n",
        "    <td>30-Nov-82</td>\n",
        "    <td></td>\n",
        "    <td>10.0</td>\n",
        "  </tr>\n",
        "  <tr>\n",
        "    <td>AC/DC</td>\n",
        "    <td>Back in Black</td>\n",
        "    <td>1980</td>\n",
        "    <td>00:42:11</td>\n",
        "    <td>Hard rock</td>\n",
        "    <td>26.1</td>\n",
        "    <td>50</td>\n",
        "    <td>25-Jul-80</td>\n",
        "    <td></td>\n",
        "    <td>8.5</td>\n",
        "  </tr>\n",
        "    <tr>\n",
        "    <td>Pink Floyd</td>\n",
        "    <td>The Dark Side of the Moon</td>\n",
        "    <td>1973</td>\n",
        "    <td>00:42:49</td>\n",
        "    <td>Progressive rock</td>\n",
        "    <td>24.2</td>\n",
        "    <td>45</td>\n",
        "    <td>01-Mar-73</td>\n",
        "    <td></td>\n",
        "    <td>9.5</td>\n",
        "  </tr>\n",
        "    <tr>\n",
        "    <td>Whitney Houston</td>\n",
        "    <td>The Bodyguard</td>\n",
        "    <td>1992</td>\n",
        "    <td>00:57:44</td>\n",
        "    <td>Soundtrack/R&B, soul, pop</td>\n",
        "    <td>26.1</td>\n",
        "    <td>50</td>\n",
        "    <td>25-Jul-80</td>\n",
        "    <td>Y</td>\n",
        "    <td>7.0</td>\n",
        "  </tr>\n",
        "    <tr>\n",
        "    <td>Meat Loaf</td>\n",
        "    <td>Bat Out of Hell</td>\n",
        "    <td>1977</td>\n",
        "    <td>00:46:33</td>\n",
        "    <td>Hard rock, progressive rock</td>\n",
        "    <td>20.6</td>\n",
        "    <td>43</td>\n",
        "    <td>21-Oct-77</td>\n",
        "    <td></td>\n",
        "    <td>7.0</td>\n",
        "  </tr>\n",
        "    <tr>\n",
        "    <td>Eagles</td>\n",
        "    <td>Their Greatest Hits (1971-1975)</td>\n",
        "    <td>1976</td>\n",
        "    <td>00:43:08</td>\n",
        "    <td>Rock, soft rock, folk rock</td>\n",
        "    <td>32.2</td>\n",
        "    <td>42</td>\n",
        "    <td>17-Feb-76</td>\n",
        "    <td></td>\n",
        "    <td>9.5</td>\n",
        "  </tr>\n",
        "    <tr>\n",
        "    <td>Bee Gees</td>\n",
        "    <td>Saturday Night Fever</td>\n",
        "    <td>1977</td>\n",
        "    <td>1:15:54</td>\n",
        "    <td>Disco</td>\n",
        "    <td>20.6</td>\n",
        "    <td>40</td>\n",
        "    <td>15-Nov-77</td>\n",
        "    <td>Y</td>\n",
        "    <td>9.0</td>\n",
        "  </tr>\n",
        "    <tr>\n",
        "    <td>Fleetwood Mac</td>\n",
        "    <td>Rumours</td>\n",
        "    <td>1977</td>\n",
        "    <td>00:40:01</td>\n",
        "    <td>Soft rock</td>\n",
        "    <td>27.9</td>\n",
        "    <td>40</td>\n",
        "    <td>04-Feb-77</td>\n",
        "    <td></td>\n",
        "    <td>9.5</td>\n",
        "  </tr>\n",
        "</table></font>"
      ]
    },
    {
      "cell_type": "markdown",
      "metadata": {
        "id": "hwT9FZrcTSkW"
      },
      "source": [
        "<hr>"
      ]
    },
    {
      "cell_type": "markdown",
      "metadata": {
        "id": "89htm8IeTSkW"
      },
      "source": [
        "<h2 id=\"tuple\">Tuples</h2>"
      ]
    },
    {
      "cell_type": "markdown",
      "metadata": {
        "id": "3sop86aETSkW"
      },
      "source": [
        "In Python, there are different data types: string, integer and float. These data types can all be contained in a tuple as follows:"
      ]
    },
    {
      "cell_type": "markdown",
      "metadata": {
        "id": "1W0qr-39TSkW"
      },
      "source": [
        "<img src=\"https://s3-api.us-geo.objectstorage.softlayer.net/cf-courses-data/CognitiveClass/PY0101EN/Chapter%202/Images/TuplesType.png\" width=\"750\" align=\"center\" />"
      ]
    },
    {
      "cell_type": "markdown",
      "metadata": {
        "id": "6emGFw6cTSkW"
      },
      "source": [
        "Now, let us create your first tuple with string, integer and float."
      ]
    },
    {
      "cell_type": "code",
      "execution_count": 1,
      "metadata": {
        "colab": {
          "base_uri": "https://localhost:8080/"
        },
        "id": "ij_5Hjw5TSkX",
        "outputId": "10f3061b-d8ac-46ee-89ff-d75f201c4fe0"
      },
      "outputs": [
        {
          "output_type": "execute_result",
          "data": {
            "text/plain": [
              "('disco', 10, 1.2)"
            ]
          },
          "metadata": {},
          "execution_count": 1
        }
      ],
      "source": [
        "# Create your first tuple\n",
        "\n",
        "tuple1 = (\"disco\",10,1.2 ) #tuple을 선언하는 방법은 ()\n",
        "tuple1"
      ]
    },
    {
      "cell_type": "markdown",
      "metadata": {
        "id": "a0UY2imsTSkX"
      },
      "source": [
        "The type of variable is a **tuple**."
      ]
    },
    {
      "cell_type": "code",
      "execution_count": 2,
      "metadata": {
        "colab": {
          "base_uri": "https://localhost:8080/"
        },
        "id": "TZyKSHxJTSkX",
        "outputId": "d10ca48f-e225-41dd-920a-0053811b44c1"
      },
      "outputs": [
        {
          "output_type": "execute_result",
          "data": {
            "text/plain": [
              "tuple"
            ]
          },
          "metadata": {},
          "execution_count": 2
        }
      ],
      "source": [
        "# Print the type of the tuple you created\n",
        "\n",
        "type(tuple1)"
      ]
    },
    {
      "cell_type": "markdown",
      "metadata": {
        "id": "BMvACJhNTSkY"
      },
      "source": [
        "<h3 id=\"index\">Indexing</h3>"
      ]
    },
    {
      "cell_type": "markdown",
      "metadata": {
        "id": "bw4iThqJTSkY"
      },
      "source": [
        " Each element of a tuple can be accessed via an index. The following table represents the relationship between the index and the items in the tuple. Each element can be obtained by the name of the tuple followed by a square bracket with the index number:"
      ]
    },
    {
      "cell_type": "markdown",
      "metadata": {
        "id": "WTnxiOQZTSkY"
      },
      "source": [
        "<img src=\"https://s3-api.us-geo.objectstorage.softlayer.net/cf-courses-data/CognitiveClass/PY0101EN/Chapter%202/Images/TuplesIndex.gif\" width=\"750\" align=\"center\">"
      ]
    },
    {
      "cell_type": "markdown",
      "metadata": {
        "id": "ivg2YrGmTSkY"
      },
      "source": [
        "We can print out each value in the tuple:"
      ]
    },
    {
      "cell_type": "code",
      "execution_count": 3,
      "metadata": {
        "colab": {
          "base_uri": "https://localhost:8080/"
        },
        "id": "8e6v6jvGTSkY",
        "outputId": "ea145e4e-f021-4217-855c-485ca569c459"
      },
      "outputs": [
        {
          "output_type": "stream",
          "name": "stdout",
          "text": [
            "disco\n",
            "10\n",
            "1.2\n"
          ]
        }
      ],
      "source": [
        "# Print the variable on each index\n",
        "\n",
        "print(tuple1[0]) #\"disco\"\n",
        "print(tuple1[1]) #10\n",
        "print(tuple1[2]) #1,2"
      ]
    },
    {
      "cell_type": "markdown",
      "metadata": {
        "id": "RCRQ1SamTSkY"
      },
      "source": [
        "We can print out the **type** of each value in the tuple:\n"
      ]
    },
    {
      "cell_type": "code",
      "execution_count": 4,
      "metadata": {
        "colab": {
          "base_uri": "https://localhost:8080/"
        },
        "id": "NHgIlyeTTSkY",
        "outputId": "703a7d4a-38d0-4349-b1a6-c4e02d81d80f"
      },
      "outputs": [
        {
          "output_type": "stream",
          "name": "stdout",
          "text": [
            "<class 'str'>\n",
            "<class 'int'>\n",
            "<class 'float'>\n"
          ]
        }
      ],
      "source": [
        "# Print the type of value on each index\n",
        "\n",
        "print(type(tuple1[0]))\n",
        "print(type(tuple1[1]))\n",
        "print(type(tuple1[2]))"
      ]
    },
    {
      "cell_type": "markdown",
      "metadata": {
        "id": "qunlW9pETSkY"
      },
      "source": [
        "We can also use negative indexing. We use the same table above with corresponding negative values:"
      ]
    },
    {
      "cell_type": "markdown",
      "metadata": {
        "id": "vVinQAyDTSkZ"
      },
      "source": [
        "<img src=\"https://s3-api.us-geo.objectstorage.softlayer.net/cf-courses-data/CognitiveClass/PY0101EN/Chapter%202/Images/TuplesNeg.png\" width=\"750\" align=\"center\">"
      ]
    },
    {
      "cell_type": "markdown",
      "metadata": {
        "id": "rEkWf34dTSkZ"
      },
      "source": [
        "We can obtain the last element as follows (this time we will not use the print statement to display the values):"
      ]
    },
    {
      "cell_type": "code",
      "execution_count": 8,
      "metadata": {
        "colab": {
          "base_uri": "https://localhost:8080/"
        },
        "id": "e7AlK5vbTSkZ",
        "outputId": "eb686d80-3c88-4620-eea6-6d681fc1ef26"
      },
      "outputs": [
        {
          "output_type": "execute_result",
          "data": {
            "text/plain": [
              "1.2"
            ]
          },
          "metadata": {},
          "execution_count": 8
        }
      ],
      "source": [
        "# Use negative index to get the value of the last element\n",
        "\n",
        "tuple1[-1]"
      ]
    },
    {
      "cell_type": "markdown",
      "metadata": {
        "id": "jGXsKggjTSkZ"
      },
      "source": [
        "We can display the next two elements as follows:"
      ]
    },
    {
      "cell_type": "code",
      "execution_count": 10,
      "metadata": {
        "colab": {
          "base_uri": "https://localhost:8080/"
        },
        "id": "dviM7F6aTSkZ",
        "outputId": "50845527-2322-4a27-d576-ec2d895ad2b9"
      },
      "outputs": [
        {
          "output_type": "execute_result",
          "data": {
            "text/plain": [
              "10"
            ]
          },
          "metadata": {},
          "execution_count": 10
        }
      ],
      "source": [
        "# Use negative index to get the value of the second last element\n",
        "\n",
        "tuple1[-2]"
      ]
    },
    {
      "cell_type": "code",
      "execution_count": 9,
      "metadata": {
        "colab": {
          "base_uri": "https://localhost:8080/",
          "height": 36
        },
        "id": "kvrNDiijTSkZ",
        "outputId": "abf6af9c-af25-4a55-9275-72302eabbc14"
      },
      "outputs": [
        {
          "output_type": "execute_result",
          "data": {
            "text/plain": [
              "'disco'"
            ],
            "application/vnd.google.colaboratory.intrinsic+json": {
              "type": "string"
            }
          },
          "metadata": {},
          "execution_count": 9
        }
      ],
      "source": [
        "# Use negative index to get the value of the third last element\n",
        "\n",
        "tuple1[-3]"
      ]
    },
    {
      "cell_type": "markdown",
      "metadata": {
        "id": "tRgnzF-HTSkZ"
      },
      "source": [
        "<h3 id=\"concate\">Concatenate Tuples</h3>"
      ]
    },
    {
      "cell_type": "markdown",
      "metadata": {
        "id": "6U6ICxWkTSkZ"
      },
      "source": [
        "We can concatenate or combine tuples by using the **+** sign:"
      ]
    },
    {
      "cell_type": "code",
      "execution_count": 11,
      "metadata": {
        "colab": {
          "base_uri": "https://localhost:8080/"
        },
        "id": "1yds4tLeTSkZ",
        "outputId": "ec681d67-e780-472b-85c0-c700be2fd9e7"
      },
      "outputs": [
        {
          "output_type": "execute_result",
          "data": {
            "text/plain": [
              "('disco', 10, 1.2, 'hard rock', 10)"
            ]
          },
          "metadata": {},
          "execution_count": 11
        }
      ],
      "source": [
        "# Concatenate two tuples\n",
        "\n",
        "tuple2 = tuple1 + (\"hard rock\", 10)\n",
        "tuple2"
      ]
    },
    {
      "cell_type": "code",
      "source": [
        "len(tuple2)"
      ],
      "metadata": {
        "colab": {
          "base_uri": "https://localhost:8080/"
        },
        "id": "MlBaRtGHb-24",
        "outputId": "4ef64b49-1e4a-498f-ddb4-bb929baa4de1"
      },
      "execution_count": 12,
      "outputs": [
        {
          "output_type": "execute_result",
          "data": {
            "text/plain": [
              "5"
            ]
          },
          "metadata": {},
          "execution_count": 12
        }
      ]
    },
    {
      "cell_type": "markdown",
      "metadata": {
        "id": "iUJwiOpnTSka"
      },
      "source": [
        "We can slice tuples obtaining multiple values as demonstrated by the figure below:"
      ]
    },
    {
      "cell_type": "markdown",
      "metadata": {
        "id": "HO3BZ6ODTSka"
      },
      "source": [
        "<img src=\"https://s3-api.us-geo.objectstorage.softlayer.net/cf-courses-data/CognitiveClass/PY0101EN/Chapter%202/Images/TuplesSlice.gif\" width=\"750\" align=\"center\">"
      ]
    },
    {
      "cell_type": "markdown",
      "metadata": {
        "id": "jbAsXK7qTSka"
      },
      "source": [
        "<h3 id=\"slice\">Slicing</h3>"
      ]
    },
    {
      "cell_type": "markdown",
      "metadata": {
        "id": "2eNk9H4ITSka"
      },
      "source": [
        "We can slice tuples, obtaining new tuples with the corresponding elements:"
      ]
    },
    {
      "cell_type": "code",
      "execution_count": 13,
      "metadata": {
        "colab": {
          "base_uri": "https://localhost:8080/"
        },
        "id": "EKbtiiXyTSka",
        "outputId": "799ca44b-59af-4b8a-fdf7-0016371e744a"
      },
      "outputs": [
        {
          "output_type": "execute_result",
          "data": {
            "text/plain": [
              "('disco', 10, 1.2, 'hard rock', 10)"
            ]
          },
          "metadata": {},
          "execution_count": 13
        }
      ],
      "source": [
        "# Slice from index 0 to index 2\n",
        "\n",
        "tuple2[0:5]"
      ]
    },
    {
      "cell_type": "markdown",
      "metadata": {
        "id": "P6p39QTfTSka"
      },
      "source": [
        "We can obtain the last two elements of the tuple:"
      ]
    },
    {
      "cell_type": "code",
      "execution_count": 18,
      "metadata": {
        "colab": {
          "base_uri": "https://localhost:8080/"
        },
        "id": "kVsiNYWpTSka",
        "outputId": "78202671-f8a7-4015-c9b5-57a8ba95a18e"
      },
      "outputs": [
        {
          "output_type": "stream",
          "name": "stdout",
          "text": [
            "('hard rock', 10)\n"
          ]
        }
      ],
      "source": [
        "# Slice from index 3 to index 4\n",
        "\n",
        "tuple3 = tuple2[3:5]\n",
        "type(tuple3)\n",
        "print(tuple3)"
      ]
    },
    {
      "cell_type": "markdown",
      "metadata": {
        "id": "myYgsWZ8TSka"
      },
      "source": [
        "We can obtain the length of a tuple using the length command:"
      ]
    },
    {
      "cell_type": "code",
      "execution_count": 16,
      "metadata": {
        "colab": {
          "base_uri": "https://localhost:8080/"
        },
        "id": "sVNWgvYHTSka",
        "outputId": "d9b516ab-ef79-4569-8d10-3cedcaf82d30"
      },
      "outputs": [
        {
          "output_type": "execute_result",
          "data": {
            "text/plain": [
              "5"
            ]
          },
          "metadata": {},
          "execution_count": 16
        }
      ],
      "source": [
        "# Get the length of tuple\n",
        "\n",
        "len(tuple2)"
      ]
    },
    {
      "cell_type": "markdown",
      "metadata": {
        "id": "2NwmAXQgTSkb"
      },
      "source": [
        "<h3 id=\"sort\">Sorting</h3>"
      ]
    },
    {
      "cell_type": "markdown",
      "metadata": {
        "id": "N29YeUGtTSkb"
      },
      "source": [
        " Consider the following tuple:"
      ]
    },
    {
      "cell_type": "code",
      "execution_count": 19,
      "metadata": {
        "collapsed": true,
        "id": "KlTeeeM1TSkb"
      },
      "outputs": [],
      "source": [
        "# A sample tuple\n",
        "\n",
        "Ratings = (0, 9, 6, 5, 10, 8, 9, 6, 2)"
      ]
    },
    {
      "cell_type": "markdown",
      "metadata": {
        "id": "WaOy6-aUTSkb"
      },
      "source": [
        "We can sort the values in a tuple and save it to a new tuple:"
      ]
    },
    {
      "cell_type": "code",
      "execution_count": 20,
      "metadata": {
        "colab": {
          "base_uri": "https://localhost:8080/"
        },
        "id": "5DZ6srnJTSkb",
        "outputId": "9e3f4f71-5562-4339-c0e7-4a52a1a67101"
      },
      "outputs": [
        {
          "output_type": "execute_result",
          "data": {
            "text/plain": [
              "[0, 2, 5, 6, 6, 8, 9, 9, 10]"
            ]
          },
          "metadata": {},
          "execution_count": 20
        }
      ],
      "source": [
        "# Sort the tuple\n",
        "\n",
        "RatingsSorted = sorted(Ratings) #정렬...sorted\n",
        "RatingsSorted"
      ]
    },
    {
      "cell_type": "markdown",
      "metadata": {
        "id": "rOuZ9IhJTSkb"
      },
      "source": [
        "<h3 id=\"nest\">Nested Tuple</h3>"
      ]
    },
    {
      "cell_type": "markdown",
      "metadata": {
        "id": "IDLKGZ82TSkb"
      },
      "source": [
        "A tuple can contain another tuple as well as other more complex data types. This process is called 'nesting'. Consider the following tuple with several elements:"
      ]
    },
    {
      "cell_type": "code",
      "execution_count": 21,
      "metadata": {
        "collapsed": true,
        "id": "sjFOPVDVTSkc"
      },
      "outputs": [],
      "source": [
        "# Create a nest tuple\n",
        "\n",
        "NestedT =(1, 2, (\"pop\", \"rock\") ,(3,4),(\"disco\",(1,2)))\n",
        "\n",
        "#NestedT[0] --> 1\n",
        "#NestedT[2] ---> (\"pop\", \"rock\") : tuple ()\n",
        "#NestedT[3] ---> (3,4) : tuple ()\n",
        "#NestedT[4] --->(\"disco\", (1,2)) : tuple\n",
        "#NestedT[4][0] -->\"disco\" :\"\"\n",
        "#NestedT[4][1] --> (1,2) : () tuple\n",
        "#NestedT[4][1][0] --> 1 : integer\n"
      ]
    },
    {
      "cell_type": "markdown",
      "metadata": {
        "id": "fK3jCIMYTSkc"
      },
      "source": [
        "Each element in the tuple including other tuples can be obtained via an index as shown in the figure:"
      ]
    },
    {
      "cell_type": "markdown",
      "metadata": {
        "id": "-1yA4fbeTSkc"
      },
      "source": [
        "<img src=\"https://s3-api.us-geo.objectstorage.softlayer.net/cf-courses-data/CognitiveClass/PY0101EN/Chapter%202/Images/TuplesNestOne.png\" width=\"750\" align=\"center\">"
      ]
    },
    {
      "cell_type": "code",
      "execution_count": 22,
      "metadata": {
        "colab": {
          "base_uri": "https://localhost:8080/"
        },
        "id": "TyPvbAOBTSkc",
        "outputId": "61219e28-90db-43b9-fd75-eff60e7209b6"
      },
      "outputs": [
        {
          "output_type": "stream",
          "name": "stdout",
          "text": [
            "Element 0 of Tuple:  1\n",
            "Element 1 of Tuple:  2\n",
            "Element 2 of Tuple:  ('pop', 'rock')\n",
            "Element 3 of Tuple:  (3, 4)\n",
            "Element 4 of Tuple:  ('disco', (1, 2))\n"
          ]
        }
      ],
      "source": [
        "# Print element on each index\n",
        "\n",
        "print(\"Element 0 of Tuple: \", NestedT[0])\n",
        "print(\"Element 1 of Tuple: \", NestedT[1])\n",
        "print(\"Element 2 of Tuple: \", NestedT[2])\n",
        "print(\"Element 3 of Tuple: \", NestedT[3])\n",
        "print(\"Element 4 of Tuple: \", NestedT[4])"
      ]
    },
    {
      "cell_type": "markdown",
      "metadata": {
        "id": "e5Tj3rzZTSkc"
      },
      "source": [
        "We can use the second index to access other tuples as demonstrated in the figure:"
      ]
    },
    {
      "cell_type": "markdown",
      "metadata": {
        "id": "_tS4AZeVTSkc"
      },
      "source": [
        "<img src=\"https://s3-api.us-geo.objectstorage.softlayer.net/cf-courses-data/CognitiveClass/PY0101EN/Chapter%202/Images/TuplesNestTwo.png\" width=\"750\" align=\"center\">"
      ]
    },
    {
      "cell_type": "markdown",
      "metadata": {
        "id": "5a1TCmsUTSkc"
      },
      "source": [
        " We can access the nested tuples :"
      ]
    },
    {
      "cell_type": "code",
      "execution_count": 23,
      "metadata": {
        "colab": {
          "base_uri": "https://localhost:8080/"
        },
        "id": "Z5wDe8fKTSkc",
        "outputId": "acccf1ac-202f-422a-8a09-3de58ea947df"
      },
      "outputs": [
        {
          "output_type": "stream",
          "name": "stdout",
          "text": [
            "Element 2, 0 of Tuple:  pop\n",
            "Element 2, 1 of Tuple:  rock\n",
            "Element 3, 0 of Tuple:  3\n",
            "Element 3, 1 of Tuple:  4\n",
            "Element 4, 0 of Tuple:  disco\n",
            "Element 4, 1 of Tuple:  (1, 2)\n"
          ]
        }
      ],
      "source": [
        "# Print element on each index, including nest indexes\n",
        "\n",
        "print(\"Element 2, 0 of Tuple: \",   NestedT[2][0])\n",
        "print(\"Element 2, 1 of Tuple: \",   NestedT[2][1])\n",
        "print(\"Element 3, 0 of Tuple: \",   NestedT[3][0])\n",
        "print(\"Element 3, 1 of Tuple: \",   NestedT[3][1])\n",
        "print(\"Element 4, 0 of Tuple: \",   NestedT[4][0])\n",
        "print(\"Element 4, 1 of Tuple: \",   NestedT[4][1])"
      ]
    },
    {
      "cell_type": "markdown",
      "metadata": {
        "id": "SRPogL1lTSkc"
      },
      "source": [
        "We can access strings in the second nested tuples using a third index:"
      ]
    },
    {
      "cell_type": "code",
      "execution_count": 25,
      "metadata": {
        "colab": {
          "base_uri": "https://localhost:8080/",
          "height": 36
        },
        "id": "9j58J-rZTSkc",
        "outputId": "20144e52-a1ca-410f-dfc0-13de42b22595"
      },
      "outputs": [
        {
          "output_type": "execute_result",
          "data": {
            "text/plain": [
              "'r'"
            ],
            "application/vnd.google.colaboratory.intrinsic+json": {
              "type": "string"
            }
          },
          "metadata": {},
          "execution_count": 25
        }
      ],
      "source": [
        "# Print the first element in the second nested tuples\n",
        "\n",
        "NestedT[2][1][0]"
      ]
    },
    {
      "cell_type": "code",
      "execution_count": 26,
      "metadata": {
        "colab": {
          "base_uri": "https://localhost:8080/",
          "height": 36
        },
        "id": "6IKHvaRHTSkd",
        "outputId": "3213a454-11dc-49bb-803c-4ff7b967f099"
      },
      "outputs": [
        {
          "output_type": "execute_result",
          "data": {
            "text/plain": [
              "'o'"
            ],
            "application/vnd.google.colaboratory.intrinsic+json": {
              "type": "string"
            }
          },
          "metadata": {},
          "execution_count": 26
        }
      ],
      "source": [
        "# Print the second element in the second nested tuples\n",
        "\n",
        "NestedT[2][1][1]"
      ]
    },
    {
      "cell_type": "markdown",
      "metadata": {
        "id": "Kxon9XZGTSkd"
      },
      "source": [
        "Similarly, we can access elements nested deeper in the tree with a fourth index:"
      ]
    },
    {
      "cell_type": "code",
      "execution_count": 27,
      "metadata": {
        "colab": {
          "base_uri": "https://localhost:8080/"
        },
        "id": "2fz7wwsZTSkd",
        "outputId": "c34e1061-13fc-4fa8-9ded-b7d75ed5776f"
      },
      "outputs": [
        {
          "output_type": "execute_result",
          "data": {
            "text/plain": [
              "1"
            ]
          },
          "metadata": {},
          "execution_count": 27
        }
      ],
      "source": [
        "# Print the first element in the second nested tuples\n",
        "\n",
        "NestedT[4][1][0]"
      ]
    },
    {
      "cell_type": "code",
      "execution_count": 28,
      "metadata": {
        "colab": {
          "base_uri": "https://localhost:8080/"
        },
        "id": "MX70CfpoTSkd",
        "outputId": "e635eccc-032c-4b3d-ef33-8ccbd523e6ed"
      },
      "outputs": [
        {
          "output_type": "execute_result",
          "data": {
            "text/plain": [
              "2"
            ]
          },
          "metadata": {},
          "execution_count": 28
        }
      ],
      "source": [
        "# Print the second element in the second nested tuples\n",
        "\n",
        "NestedT[4][1][1]"
      ]
    },
    {
      "cell_type": "markdown",
      "metadata": {
        "id": "g7cEAxQZTSkd"
      },
      "source": [
        "The following figure shows the relationship of the tree and the element <code>NestedT[4][1][1]</code>:"
      ]
    },
    {
      "cell_type": "markdown",
      "metadata": {
        "id": "4ltjtCR2TSkd"
      },
      "source": [
        "<img src=\"https://s3-api.us-geo.objectstorage.softlayer.net/cf-courses-data/CognitiveClass/PY0101EN/Chapter%202/Images/TuplesNestFour.gif\" width=\"750\" align=\"center\">"
      ]
    },
    {
      "cell_type": "markdown",
      "metadata": {
        "id": "WfaOSGtXTSkd"
      },
      "source": [
        "<h2 id=\"quiz\">Quiz on Tuples</h2>"
      ]
    },
    {
      "cell_type": "markdown",
      "metadata": {
        "id": "PCG7vENSTSkd"
      },
      "source": [
        "Consider the following tuple:"
      ]
    },
    {
      "cell_type": "code",
      "execution_count": 29,
      "metadata": {
        "colab": {
          "base_uri": "https://localhost:8080/"
        },
        "id": "60-6rzdhTSke",
        "outputId": "fc54e288-1f1b-4c12-d37e-3602e4c0c88f"
      },
      "outputs": [
        {
          "output_type": "execute_result",
          "data": {
            "text/plain": [
              "('pop',\n",
              " 'rock',\n",
              " 'soul',\n",
              " 'hard rock',\n",
              " 'soft rock',\n",
              " 'R&B',\n",
              " 'progressive rock',\n",
              " 'disco')"
            ]
          },
          "metadata": {},
          "execution_count": 29
        }
      ],
      "source": [
        "# sample tuple\n",
        "\n",
        "genres_tuple = (\"pop\", \"rock\", \"soul\", \"hard rock\", \"soft rock\", \\\n",
        "                \"R&B\", \"progressive rock\", \"disco\")\n",
        "genres_tuple"
      ]
    },
    {
      "cell_type": "markdown",
      "metadata": {
        "id": "g5pE31RtTSke"
      },
      "source": [
        "Find the length of the tuple, <code>genres_tuple</code>:"
      ]
    },
    {
      "cell_type": "code",
      "execution_count": 32,
      "metadata": {
        "id": "CjPoP2NlTSke",
        "colab": {
          "base_uri": "https://localhost:8080/"
        },
        "outputId": "5e304a9c-506c-4c5d-b322-cc5e10685768"
      },
      "outputs": [
        {
          "output_type": "execute_result",
          "data": {
            "text/plain": [
              "8"
            ]
          },
          "metadata": {},
          "execution_count": 32
        }
      ],
      "source": [
        "# Write your code below and press Shift+Enter to execute\n",
        "len(genres_tuple)"
      ]
    },
    {
      "cell_type": "markdown",
      "metadata": {
        "id": "3ZtRR3P8TSke"
      },
      "source": [
        "<img src=\"https://s3-api.us-geo.objectstorage.softlayer.net/cf-courses-data/CognitiveClass/PY0101EN/Chapter%202/Images/TuplesQuiz.png\" width=\"1100\" align=\"center\">"
      ]
    },
    {
      "cell_type": "markdown",
      "metadata": {
        "id": "UFj7NLDrTSke"
      },
      "source": [
        "Double-click __here__ for the solution.\n",
        "\n",
        "<!-- Your answer is below:\n",
        "len(genres_tuple)\n",
        "-->"
      ]
    },
    {
      "cell_type": "markdown",
      "metadata": {
        "id": "nxGKq_zXTSke"
      },
      "source": [
        "Access the element, with respect to index 3:"
      ]
    },
    {
      "cell_type": "code",
      "execution_count": 34,
      "metadata": {
        "id": "dDQOgOryTSke",
        "colab": {
          "base_uri": "https://localhost:8080/",
          "height": 36
        },
        "outputId": "fe6f261a-95db-4240-d22d-0069d77b0653"
      },
      "outputs": [
        {
          "output_type": "execute_result",
          "data": {
            "text/plain": [
              "'hard rock'"
            ],
            "application/vnd.google.colaboratory.intrinsic+json": {
              "type": "string"
            }
          },
          "metadata": {},
          "execution_count": 34
        }
      ],
      "source": [
        "# Write your code below and press Shift+Enter to execute\n",
        "genres_tuple[3]"
      ]
    },
    {
      "cell_type": "markdown",
      "metadata": {
        "id": "ezm3Ve-OTSke"
      },
      "source": [
        "Double-click __here__ for the solution.\n",
        "\n",
        "<!-- Your answer is below:\n",
        "genres_tuple[3]\n",
        "-->"
      ]
    },
    {
      "cell_type": "markdown",
      "metadata": {
        "id": "MgCTKy1DTSke"
      },
      "source": [
        "Use slicing to obtain indexes 3, 4 and 5:"
      ]
    },
    {
      "cell_type": "code",
      "execution_count": 36,
      "metadata": {
        "id": "M52TZCM5TSkf",
        "colab": {
          "base_uri": "https://localhost:8080/"
        },
        "outputId": "beaec16c-64f3-4ffb-9d97-310169b3c5f3"
      },
      "outputs": [
        {
          "output_type": "execute_result",
          "data": {
            "text/plain": [
              "('hard rock', 'soft rock', 'R&B')"
            ]
          },
          "metadata": {},
          "execution_count": 36
        }
      ],
      "source": [
        "# Write your code below and press Shift+Enter to execute\n",
        "\n",
        "genres_tuple[3:6]"
      ]
    },
    {
      "cell_type": "markdown",
      "metadata": {
        "id": "5n2419vhTSkf"
      },
      "source": [
        "*Double*-click __here__ for the solution.\n",
        "\n",
        "<!-- Your answer is below:\n",
        "genres_tuple[3:6]\n",
        "-->"
      ]
    },
    {
      "cell_type": "markdown",
      "metadata": {
        "id": "2FRQJentTSkf"
      },
      "source": [
        "Find the first two elements of the tuple <code>genres_tuple</code>:"
      ]
    },
    {
      "cell_type": "code",
      "execution_count": 38,
      "metadata": {
        "id": "siRm-jjETSkf",
        "colab": {
          "base_uri": "https://localhost:8080/"
        },
        "outputId": "f7a31c99-bfa7-40ae-b247-e7889b93dd25"
      },
      "outputs": [
        {
          "output_type": "execute_result",
          "data": {
            "text/plain": [
              "('pop', 'rock')"
            ]
          },
          "metadata": {},
          "execution_count": 38
        }
      ],
      "source": [
        "# Write your code below and press Shift+Enter to execute\n",
        "genres_tuple[0:2]"
      ]
    },
    {
      "cell_type": "markdown",
      "metadata": {
        "id": "bmfux6KjTSkf"
      },
      "source": [
        "Double-click __here__ for the solution.\n",
        "\n",
        "<!-- Your answer is below:\n",
        "genres_tuple[0:2]\n",
        "-->"
      ]
    },
    {
      "cell_type": "markdown",
      "metadata": {
        "id": "lfjDzdWVTSkf"
      },
      "source": [
        "Find the first index of <code>\"disco\"</code>:"
      ]
    },
    {
      "cell_type": "code",
      "execution_count": 43,
      "metadata": {
        "id": "ViKYpk8rTSkf",
        "colab": {
          "base_uri": "https://localhost:8080/"
        },
        "outputId": "cbfd3e15-4e87-425a-9504-9c1926245e5f"
      },
      "outputs": [
        {
          "output_type": "execute_result",
          "data": {
            "text/plain": [
              "7"
            ]
          },
          "metadata": {},
          "execution_count": 43
        }
      ],
      "source": [
        "# Write your code below and press Shift+Enter to execute\n",
        "genres_tuple.index(\"disco\")"
      ]
    },
    {
      "cell_type": "markdown",
      "metadata": {
        "id": "K4m7BxDMTSkf"
      },
      "source": [
        "Double-click __here__ for the solution.\n",
        "\n",
        "<!-- Your answer is below:\n",
        "genres_tuple.index(\"disco\")\n",
        "-->"
      ]
    },
    {
      "cell_type": "markdown",
      "metadata": {
        "id": "oi9ePenbTSkf"
      },
      "source": [
        "Generate a sorted List from the Tuple <code>C_tuple=(-5, 1, -3)</code>:"
      ]
    },
    {
      "cell_type": "code",
      "execution_count": 48,
      "metadata": {
        "id": "bAs8GFw2TSkf",
        "colab": {
          "base_uri": "https://localhost:8080/"
        },
        "outputId": "873410f1-adc3-4fb2-fa3f-3267e161ba74"
      },
      "outputs": [
        {
          "output_type": "execute_result",
          "data": {
            "text/plain": [
              "[-5, -3, 1]"
            ]
          },
          "metadata": {},
          "execution_count": 48
        }
      ],
      "source": [
        "# Write your code below and press Shift+Enter to execute\n",
        "C_tuple=(-5, 1, -3)\n",
        "C_list = sorted(C_tuple)\n",
        "C_list"
      ]
    },
    {
      "cell_type": "markdown",
      "metadata": {
        "id": "2Im7ZJKyTSkg"
      },
      "source": [
        "Double-click __here__ for the solution.\n",
        "\n",
        "<!-- Your answer is below:\n",
        "C_tuple = (-5, 1, -3)\n",
        "C_list = sorted(C_tuple)\n",
        "C_list\n",
        "-->"
      ]
    },
    {
      "cell_type": "markdown",
      "metadata": {
        "id": "igPT0r7qTSkg"
      },
      "source": [
        "<hr>\n",
        "<h2>The last exercise!</h2>\n",
        "<p>Congratulations, you have completed your first lesson and hands-on lab in Python. However, there is one more thing you need to do. The Data Science community encourages sharing work. The best way to share and showcase your work is to share it on GitHub. By sharing your notebook on GitHub you are not only building your reputation with fellow data scientists, but you can also show it off when applying for a job. Even though this was your first piece of work, it is never too early to start building good habits. Please submit all your exercises to Github & let the traces in our LMS, so for me to access your work.\n",
        "<hr>"
      ]
    },
    {
      "cell_type": "markdown",
      "metadata": {
        "id": "Tpkd95LlTSkg"
      },
      "source": [
        "<hr>"
      ]
    },
    {
      "cell_type": "markdown",
      "metadata": {
        "id": "eN69H01uTSkg"
      },
      "source": [
        "<p>Copyright &copy; 2023 RYU HOKYOUNG based on 2018 IBM Developer Skills Network. This notebook and its source code are released under the terms of the MIT License. <a href=\"https://cognitiveclass.ai/mit-license/\">MIT License</a>.</p>"
      ]
    }
  ],
  "metadata": {
    "kernelspec": {
      "display_name": "Python 3",
      "language": "python",
      "name": "python3"
    },
    "language_info": {
      "codemirror_mode": {
        "name": "ipython",
        "version": 3
      },
      "file_extension": ".py",
      "mimetype": "text/x-python",
      "name": "python",
      "nbconvert_exporter": "python",
      "pygments_lexer": "ipython3",
      "version": "3.6.8"
    },
    "colab": {
      "provenance": [],
      "include_colab_link": true
    }
  },
  "nbformat": 4,
  "nbformat_minor": 0
}