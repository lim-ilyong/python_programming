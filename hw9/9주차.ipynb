{
 "cells": [
  {
   "cell_type": "code",
   "execution_count": 1,
   "id": "97ce9cbd-7680-47ee-a560-a406ce9dc38c",
   "metadata": {},
   "outputs": [
    {
     "name": "stdout",
     "output_type": "stream",
     "text": [
      "1\n",
      "2\n",
      "3\n"
     ]
    }
   ],
   "source": [
    "for i in range(1,4):\n",
    "\n",
    "    print(i)"
   ]
  },
  {
   "cell_type": "code",
   "execution_count": 2,
   "id": "a7568d60-3904-4e87-ae0f-2d5ec24ede77",
   "metadata": {},
   "outputs": [
    {
     "name": "stdout",
     "output_type": "stream",
     "text": [
      "1\n",
      "2\n",
      "3\n"
     ]
    }
   ],
   "source": [
    "for i in [1,2,3] :\n",
    "\n",
    "    print(i)"
   ]
  },
  {
   "cell_type": "code",
   "execution_count": 3,
   "id": "652c2f6b-7624-4794-98ab-afe0d9b8793b",
   "metadata": {},
   "outputs": [
    {
     "name": "stdout",
     "output_type": "stream",
     "text": [
      "2\n",
      "3\n",
      "4\n"
     ]
    }
   ],
   "source": [
    "\n",
    "for i in [ 1,2,3]:\n",
    "\n",
    "    print(i+1)\n"
   ]
  },
  {
   "cell_type": "code",
   "execution_count": 4,
   "id": "5ddbb729-6bf8-4ec8-b780-4286e1c7366d",
   "metadata": {},
   "outputs": [],
   "source": [
    "\n",
    "a = []\n",
    "\n",
    "for i in [1,2,3]:\n",
    "\n",
    "    a.append(i)\n"
   ]
  },
  {
   "cell_type": "code",
   "execution_count": 5,
   "id": "6e9a35cd-4f5a-4e9f-ac30-4e1d37fe5dc6",
   "metadata": {},
   "outputs": [
    {
     "data": {
      "text/plain": [
       "[1, 2, 3]"
      ]
     },
     "execution_count": 5,
     "metadata": {},
     "output_type": "execute_result"
    }
   ],
   "source": [
    "a"
   ]
  },
  {
   "cell_type": "code",
   "execution_count": 6,
   "id": "cd62202d-cc64-476f-b9cc-f093074f8078",
   "metadata": {},
   "outputs": [],
   "source": [
    "for i in [1,2,3]:\n",
    "\n",
    "    a.append(i+1)\n",
    "\n",
    " \n"
   ]
  },
  {
   "cell_type": "code",
   "execution_count": 7,
   "id": "e996502f-eff8-4bae-9699-980977e178f9",
   "metadata": {},
   "outputs": [
    {
     "data": {
      "text/plain": [
       "[1, 2, 3, 2, 3, 4]"
      ]
     },
     "execution_count": 7,
     "metadata": {},
     "output_type": "execute_result"
    }
   ],
   "source": [
    "a"
   ]
  },
  {
   "cell_type": "code",
   "execution_count": 8,
   "id": "eaace856-48f9-4cf4-a6f4-f59674aab6b0",
   "metadata": {},
   "outputs": [
    {
     "data": {
      "text/plain": [
       "[2, 3, 4]"
      ]
     },
     "execution_count": 8,
     "metadata": {},
     "output_type": "execute_result"
    }
   ],
   "source": [
    "\n",
    "\n",
    "[i+1 for i in [1,2,3]]\n",
    "\n",
    " "
   ]
  },
  {
   "cell_type": "code",
   "execution_count": 9,
   "id": "e7dacbed-e5e3-4840-97c9-5b69e8fc2f34",
   "metadata": {},
   "outputs": [],
   "source": [
    "\n",
    "\n",
    "def calcul(i):\n",
    "\n",
    "    c = i*2*3+i\n",
    "\n",
    "    return c\n"
   ]
  },
  {
   "cell_type": "code",
   "execution_count": 10,
   "id": "ebd86901-318a-4e54-8cd4-2556f510eea3",
   "metadata": {},
   "outputs": [],
   "source": [
    "\n",
    "\n",
    "b = [calcul(i) for i in [1,2,3]]\n",
    "\n",
    " "
   ]
  },
  {
   "cell_type": "code",
   "execution_count": 11,
   "id": "cb0b2373-33e1-4111-b554-57324c71dad6",
   "metadata": {},
   "outputs": [
    {
     "data": {
      "text/plain": [
       "[7, 14, 21]"
      ]
     },
     "execution_count": 11,
     "metadata": {},
     "output_type": "execute_result"
    }
   ],
   "source": [
    "\n",
    "\n",
    "b"
   ]
  },
  {
   "cell_type": "code",
   "execution_count": 12,
   "id": "796d1837-91a3-4008-b2eb-deeaa0fd8521",
   "metadata": {},
   "outputs": [
    {
     "data": {
      "text/plain": [
       "[3]"
      ]
     },
     "execution_count": 12,
     "metadata": {},
     "output_type": "execute_result"
    }
   ],
   "source": [
    "\n",
    "\n",
    "[i+1 for i in [1,2,3] if i % 2 ==0]\n",
    "\n",
    " "
   ]
  },
  {
   "cell_type": "code",
   "execution_count": 13,
   "id": "d332b0e1-c3b2-4a9d-b7ca-e625f6b8d905",
   "metadata": {},
   "outputs": [],
   "source": [
    "\n",
    "\n",
    "number_list  = []\n",
    "\n",
    "number_list.append(1)\n",
    "\n",
    "number_list.append(2)\n",
    "\n",
    "number_list.append(3)\n",
    "\n",
    "number_list.append(4)\n",
    "\n",
    "number_list.append(5)\n"
   ]
  },
  {
   "cell_type": "code",
   "execution_count": 14,
   "id": "c0e4d593-2425-409c-822d-5200410a70a1",
   "metadata": {},
   "outputs": [
    {
     "data": {
      "text/plain": [
       "[1, 2, 3, 4, 5]"
      ]
     },
     "execution_count": 14,
     "metadata": {},
     "output_type": "execute_result"
    }
   ],
   "source": [
    "\n",
    "number_list\n",
    "\n",
    " "
   ]
  },
  {
   "cell_type": "code",
   "execution_count": 15,
   "id": "e5a0eb74-8561-4dfc-8acf-504e784dbc68",
   "metadata": {},
   "outputs": [],
   "source": [
    "\n",
    "\n",
    "number_list = []\n"
   ]
  },
  {
   "cell_type": "code",
   "execution_count": 16,
   "id": "1db65b02-936e-4e26-a1b5-2e3dc1573bec",
   "metadata": {},
   "outputs": [],
   "source": [
    "\n",
    "\n",
    "for number in range(1,6):\n",
    "\n",
    "    number_list.append(number)\n",
    "\n",
    " "
   ]
  },
  {
   "cell_type": "code",
   "execution_count": 17,
   "id": "db46e2f7-5eba-4a0e-bb18-5c890676f92f",
   "metadata": {},
   "outputs": [
    {
     "data": {
      "text/plain": [
       "[1, 2, 3, 4, 5]"
      ]
     },
     "execution_count": 17,
     "metadata": {},
     "output_type": "execute_result"
    }
   ],
   "source": [
    "\n",
    " \n",
    "\n",
    "number_list\n",
    "\n",
    " \n"
   ]
  },
  {
   "cell_type": "code",
   "execution_count": 18,
   "id": "b63de7e7-703f-40fd-8c85-f93b4abf5e7c",
   "metadata": {},
   "outputs": [],
   "source": [
    "\n",
    " \n",
    "\n",
    "number_list = list(range(1,6))\n"
   ]
  },
  {
   "cell_type": "code",
   "execution_count": 19,
   "id": "47a80277-ead7-45ad-8f01-df90882e1cc8",
   "metadata": {},
   "outputs": [
    {
     "data": {
      "text/plain": [
       "[1, 2, 3, 4, 5]"
      ]
     },
     "execution_count": 19,
     "metadata": {},
     "output_type": "execute_result"
    }
   ],
   "source": [
    "\n",
    "\n",
    "number_list\n"
   ]
  },
  {
   "cell_type": "code",
   "execution_count": 20,
   "id": "51b0c69f-d14d-46fc-a432-9eb27616afac",
   "metadata": {},
   "outputs": [
    {
     "data": {
      "text/plain": [
       "[1, 2, 3, 4, 5]"
      ]
     },
     "execution_count": 20,
     "metadata": {},
     "output_type": "execute_result"
    }
   ],
   "source": [
    "\n",
    "number_list = [number for number in range(1,6)]\n",
    "\n",
    "number_list\n"
   ]
  },
  {
   "cell_type": "code",
   "execution_count": 21,
   "id": "a43d1142-b26e-4610-a37a-77620f42e847",
   "metadata": {},
   "outputs": [
    {
     "data": {
      "text/plain": [
       "[0, 1, 2, 3, 4]"
      ]
     },
     "execution_count": 21,
     "metadata": {},
     "output_type": "execute_result"
    }
   ],
   "source": [
    "\n",
    "number_list = [number-1 for number in range(1,6)]\n",
    "\n",
    "number_list\n"
   ]
  },
  {
   "cell_type": "code",
   "execution_count": 22,
   "id": "65157434-a611-479e-936a-747283b56fc0",
   "metadata": {},
   "outputs": [
    {
     "data": {
      "text/plain": [
       "[1, 3, 5]"
      ]
     },
     "execution_count": 22,
     "metadata": {},
     "output_type": "execute_result"
    }
   ],
   "source": [
    "\n",
    "a_list = [number for number in range(1,6) if number % 2 ==1]\n",
    "\n",
    "a_list\n"
   ]
  },
  {
   "cell_type": "code",
   "execution_count": 23,
   "id": "363b8b40-863c-4bfd-bed2-0a75cf050d49",
   "metadata": {},
   "outputs": [
    {
     "data": {
      "text/plain": [
       "['I', 'Love', 'Python', 'Sooooooo', 'MUCH!!!']"
      ]
     },
     "execution_count": 23,
     "metadata": {},
     "output_type": "execute_result"
    }
   ],
   "source": [
    "\n",
    "sentence = ['I', 'Love', 'Python', 'Sooooooo', 'MUCH!!!']\n",
    "\n",
    "sentence\n"
   ]
  },
  {
   "cell_type": "code",
   "execution_count": 24,
   "id": "0427f3e7-3d4d-4c40-b6bf-3063ad6f6d06",
   "metadata": {},
   "outputs": [
    {
     "data": {
      "text/plain": [
       "['i', 'love', 'python', 'sooooooo', 'much!!!']"
      ]
     },
     "execution_count": 24,
     "metadata": {},
     "output_type": "execute_result"
    }
   ],
   "source": [
    "\n",
    "[word.lower() for word in sentence]\n"
   ]
  },
  {
   "cell_type": "code",
   "execution_count": 25,
   "id": "c34d5322-f3d5-4fa0-be75-e354ba1873ac",
   "metadata": {},
   "outputs": [
    {
     "data": {
      "text/plain": [
       "['Sooooooo', 'MUCH!!!']"
      ]
     },
     "execution_count": 25,
     "metadata": {},
     "output_type": "execute_result"
    }
   ],
   "source": [
    "\n",
    "[aaa for aaa in  sentence if len(aaa) > 6]\n",
    "\n",
    " "
   ]
  },
  {
   "cell_type": "code",
   "execution_count": 26,
   "id": "6f7da80e-008a-4eae-9a81-6de27d7389af",
   "metadata": {},
   "outputs": [
    {
     "data": {
      "text/plain": [
       "[(0, 0, 0),\n",
       " (1, 1, 1),\n",
       " (2, 4, 8),\n",
       " (3, 9, 27),\n",
       " (4, 16, 64),\n",
       " (5, 25, 125),\n",
       " (6, 36, 216),\n",
       " (7, 49, 343),\n",
       " (8, 64, 512),\n",
       " (9, 81, 729)]"
      ]
     },
     "execution_count": 26,
     "metadata": {},
     "output_type": "execute_result"
    }
   ],
   "source": [
    "\n",
    "[(x, x **2, x**3) for x in range(10)]\n",
    "\n",
    " "
   ]
  },
  {
   "cell_type": "code",
   "execution_count": 27,
   "id": "03c1090f-e1b2-4061-a459-a1cd993200a5",
   "metadata": {},
   "outputs": [],
   "source": [
    "\n",
    "a_list = [number for number in range(1,6) if number %2 ==1]\n",
    "\n",
    " "
   ]
  },
  {
   "cell_type": "code",
   "execution_count": 28,
   "id": "d2803c7d-b391-47ab-adc8-862f395a0645",
   "metadata": {},
   "outputs": [
    {
     "data": {
      "text/plain": [
       "[1, 3, 5]"
      ]
     },
     "execution_count": 28,
     "metadata": {},
     "output_type": "execute_result"
    }
   ],
   "source": [
    "\n",
    "\n",
    "a_list\n"
   ]
  },
  {
   "cell_type": "code",
   "execution_count": 29,
   "id": "0b153926-9868-4e0e-8176-32d721978acb",
   "metadata": {},
   "outputs": [],
   "source": [
    "\n",
    "a_list=[]\n",
    "\n",
    "for number in range(1,6):\n",
    "\n",
    "    if number%2 ==1:\n",
    "\n",
    "        a_list.append(number)\n"
   ]
  },
  {
   "cell_type": "code",
   "execution_count": 30,
   "id": "bfa66926-690a-4840-a3ef-2bb819d8ddbe",
   "metadata": {},
   "outputs": [
    {
     "data": {
      "text/plain": [
       "[1, 3, 5]"
      ]
     },
     "execution_count": 30,
     "metadata": {},
     "output_type": "execute_result"
    }
   ],
   "source": [
    "\n",
    "\n",
    "a_list\n",
    "\n",
    " "
   ]
  },
  {
   "cell_type": "code",
   "execution_count": 31,
   "id": "9fc3e889-ad8d-4226-be0f-af4e2f95c6c1",
   "metadata": {},
   "outputs": [
    {
     "name": "stdout",
     "output_type": "stream",
     "text": [
      "1 1\n",
      "1 2\n",
      "2 1\n",
      "2 2\n",
      "3 1\n",
      "3 2\n"
     ]
    }
   ],
   "source": [
    "\n",
    "rows = range(1,4)\n",
    "\n",
    "cols = range(1,3)\n",
    "\n",
    "for row in rows:\n",
    "\n",
    "    for col in cols:\n",
    "\n",
    "        print(row, col)\n"
   ]
  },
  {
   "cell_type": "code",
   "execution_count": 32,
   "id": "ce99c727-37d6-4719-8aec-aa0df79f8890",
   "metadata": {},
   "outputs": [
    {
     "name": "stdout",
     "output_type": "stream",
     "text": [
      "(1, 1)\n",
      "(1, 2)\n",
      "(2, 1)\n",
      "(2, 2)\n",
      "(3, 1)\n",
      "(3, 2)\n"
     ]
    }
   ],
   "source": [
    "\n",
    "rows = range(1,4)\n",
    "\n",
    "cols = range(1,3)\n",
    "\n",
    "cells = [(row, col) for row in rows for col in cols]\n",
    "\n",
    "for cell in cells:\n",
    "\n",
    "    print(cell)\n",
    "\n",
    " \n",
    "\n",
    " "
   ]
  },
  {
   "cell_type": "code",
   "execution_count": 33,
   "id": "4f07342d-7a83-47d9-9dd6-df35151b26fa",
   "metadata": {},
   "outputs": [
    {
     "data": {
      "text/plain": [
       "[(1, 0),\n",
       " (2, 0),\n",
       " (2, 1),\n",
       " (3, 0),\n",
       " (3, 1),\n",
       " (3, 2),\n",
       " (4, 0),\n",
       " (4, 1),\n",
       " (4, 2),\n",
       " (4, 3)]"
      ]
     },
     "execution_count": 33,
     "metadata": {},
     "output_type": "execute_result"
    }
   ],
   "source": [
    "\n",
    "[(i,j) for i in range(5) for j in range(i)]\n",
    "\n",
    " "
   ]
  },
  {
   "cell_type": "code",
   "execution_count": 35,
   "id": "e07fb566-a1aa-45ce-8f91-374374eab478",
   "metadata": {},
   "outputs": [],
   "source": [
    "\n",
    "word = 'letters'\n",
    "\n",
    "letter_counts = {letter: word.count(letter) for letter in word}\n"
   ]
  },
  {
   "cell_type": "code",
   "execution_count": 36,
   "id": "42f169c8-8e23-45a7-8f56-8b64956d27ff",
   "metadata": {},
   "outputs": [
    {
     "data": {
      "text/plain": [
       "{'l': 1, 'e': 2, 't': 2, 'r': 1, 's': 1}"
      ]
     },
     "execution_count": 36,
     "metadata": {},
     "output_type": "execute_result"
    }
   ],
   "source": [
    "\n",
    "\n",
    "letter_counts\n"
   ]
  },
  {
   "cell_type": "code",
   "execution_count": 37,
   "id": "aef11afe-102a-49f2-8aab-6531ad428636",
   "metadata": {},
   "outputs": [],
   "source": [
    "\n",
    "\n",
    "a_set = {number for number in range(1,6) if number %3 ==1}\n",
    "\n",
    " \n"
   ]
  },
  {
   "cell_type": "code",
   "execution_count": 38,
   "id": "f4520a28-153a-4aa1-a838-0ff654a1a298",
   "metadata": {},
   "outputs": [
    {
     "data": {
      "text/plain": [
       "{1, 4}"
      ]
     },
     "execution_count": 38,
     "metadata": {},
     "output_type": "execute_result"
    }
   ],
   "source": [
    "\n",
    "a_set"
   ]
  },
  {
   "cell_type": "code",
   "execution_count": 39,
   "id": "d7205c3f-8676-4bf1-ba30-bb94799f8ee1",
   "metadata": {},
   "outputs": [],
   "source": [
    "\n",
    "\n",
    "word = 'letters'\n",
    "\n",
    "letter_counts = {letter:word.count(letter) for letter in word}\n"
   ]
  },
  {
   "cell_type": "code",
   "execution_count": 40,
   "id": "c3d931bb-50e3-423a-971b-04a9f154631d",
   "metadata": {},
   "outputs": [
    {
     "data": {
      "text/plain": [
       "{'l': 1, 'e': 2, 't': 2, 'r': 1, 's': 1}"
      ]
     },
     "execution_count": 40,
     "metadata": {},
     "output_type": "execute_result"
    }
   ],
   "source": [
    "\n",
    "\n",
    "letter_counts\n"
   ]
  },
  {
   "cell_type": "code",
   "execution_count": 41,
   "id": "d3f070b3-911c-4d98-b14a-d928bbf90aa1",
   "metadata": {},
   "outputs": [],
   "source": [
    "\n",
    "letter_counts = {letter:word.count(letter) for letter in set(word)}\n"
   ]
  },
  {
   "cell_type": "code",
   "execution_count": 42,
   "id": "90e05e1b-7f76-4221-bf2f-3784db319df9",
   "metadata": {},
   "outputs": [
    {
     "data": {
      "text/plain": [
       "{'l': 1, 'r': 1, 's': 1, 't': 2, 'e': 2}"
      ]
     },
     "execution_count": 42,
     "metadata": {},
     "output_type": "execute_result"
    }
   ],
   "source": [
    "\n",
    "\n",
    "letter_counts\n"
   ]
  },
  {
   "cell_type": "code",
   "execution_count": 43,
   "id": "b56afeb0-f522-4048-a8f8-d94d453cd012",
   "metadata": {},
   "outputs": [],
   "source": [
    "\n",
    "\n",
    "def sum(a, b):\n",
    "\n",
    "    return a+b\n"
   ]
  },
  {
   "cell_type": "code",
   "execution_count": 44,
   "id": "51ed7bb6-4f1f-4f14-82a0-21770dc16a9d",
   "metadata": {},
   "outputs": [
    {
     "data": {
      "text/plain": [
       "3"
      ]
     },
     "execution_count": 44,
     "metadata": {},
     "output_type": "execute_result"
    }
   ],
   "source": [
    "\n",
    "sum(1,2)\n",
    "\n",
    " \n"
   ]
  },
  {
   "cell_type": "code",
   "execution_count": 45,
   "id": "84a762b7-af89-4778-a959-b9d0c707d8cb",
   "metadata": {},
   "outputs": [
    {
     "data": {
      "text/plain": [
       "4.4"
      ]
     },
     "execution_count": 45,
     "metadata": {},
     "output_type": "execute_result"
    }
   ],
   "source": [
    " \n",
    "\n",
    "sum(1.3, 3.1)\n",
    "\n",
    " \n",
    "\n"
   ]
  },
  {
   "cell_type": "code",
   "execution_count": 46,
   "id": "fce6cb07-264c-4298-b52e-59fa0768d94c",
   "metadata": {},
   "outputs": [
    {
     "data": {
      "text/plain": [
       "'lovepython'"
      ]
     },
     "execution_count": 46,
     "metadata": {},
     "output_type": "execute_result"
    }
   ],
   "source": [
    "\n",
    "sum('love', 'python')\n",
    "\n",
    " \n"
   ]
  },
  {
   "cell_type": "code",
   "execution_count": 47,
   "id": "12028e1b-7245-49c2-a830-130c29afd344",
   "metadata": {},
   "outputs": [
    {
     "name": "stdout",
     "output_type": "stream",
     "text": [
      "Monday : drink coffe - eat banana - enjoy tiramisu\n",
      "Tuesday : drink tea - eat orange - enjoy ice cream\n",
      "Wednesday : drink beer - eat peach - enjoy pie\n"
     ]
    }
   ],
   "source": [
    "\n",
    "days = ['Monday', 'Tuesday', 'Wednesday']\n",
    "\n",
    "fruits = ['banana', 'orange', 'peach']\n",
    "\n",
    "drinks = ['coffe', 'tea', 'beer']\n",
    "\n",
    "desserts = ['tiramisu', 'ice cream', 'pie', 'pudding']\n",
    "\n",
    " \n",
    "\n",
    "for day, fruit, drink, desserts in zip(days, fruits, drinks, desserts):\n",
    "\n",
    "    print(day, \": drink\", drink, \"- eat\", fruit, \"- enjoy\", desserts)"
   ]
  },
  {
   "cell_type": "code",
   "execution_count": 48,
   "id": "90a20bac-6f60-4eca-a8a0-5e94fec04d08",
   "metadata": {},
   "outputs": [],
   "source": [
    "\n",
    "english = 'Monday', 'Tuesday', 'Wednesday'\n"
   ]
  },
  {
   "cell_type": "code",
   "execution_count": 49,
   "id": "83dfbbba-151d-41fa-a715-af9a561d08f8",
   "metadata": {},
   "outputs": [
    {
     "data": {
      "text/plain": [
       "('Monday', 'Tuesday', 'Wednesday')"
      ]
     },
     "execution_count": 49,
     "metadata": {},
     "output_type": "execute_result"
    }
   ],
   "source": [
    "\n",
    "english\n",
    "\n",
    " \n"
   ]
  },
  {
   "cell_type": "code",
   "execution_count": 50,
   "id": "3015200b-b159-4fd8-ac56-d0f13e78e276",
   "metadata": {},
   "outputs": [],
   "source": [
    "\n",
    "french = 'Lundi', 'Mardi', 'Mercredi'\n",
    "\n",
    " "
   ]
  },
  {
   "cell_type": "code",
   "execution_count": 51,
   "id": "9c8de3be-657f-4a8e-902a-f15947cc508e",
   "metadata": {},
   "outputs": [
    {
     "data": {
      "text/plain": [
       "[('Monday', 'Lundi'), ('Tuesday', 'Mardi'), ('Wednesday', 'Mercredi')]"
      ]
     },
     "execution_count": 51,
     "metadata": {},
     "output_type": "execute_result"
    }
   ],
   "source": [
    "\n",
    "list(zip(english, french))\n",
    "\n",
    " \n"
   ]
  },
  {
   "cell_type": "code",
   "execution_count": 52,
   "id": "223d61bc-761a-435f-a9cb-9c522cc416b8",
   "metadata": {},
   "outputs": [
    {
     "data": {
      "text/plain": [
       "{'Monday': 'Lundi', 'Tuesday': 'Mardi', 'Wednesday': 'Mercredi'}"
      ]
     },
     "execution_count": 52,
     "metadata": {},
     "output_type": "execute_result"
    }
   ],
   "source": [
    " \n",
    "\n",
    "dict(zip(english, french))\n"
   ]
  },
  {
   "cell_type": "code",
   "execution_count": 53,
   "id": "c9798355-5094-411c-85a3-66b62d105907",
   "metadata": {},
   "outputs": [],
   "source": [
    "\n",
    "def menu(wine, entree, dessert):\n",
    "\n",
    "    return {'wine':wine, 'entree': entree, 'dessert':dessert}\n"
   ]
  },
  {
   "cell_type": "code",
   "execution_count": 54,
   "id": "7167397c-fa77-4f54-a231-c27637f129c3",
   "metadata": {},
   "outputs": [
    {
     "data": {
      "text/plain": [
       "{'wine': 'chrdonnary', 'entree': 'chicken', 'dessert': 'cake'}"
      ]
     },
     "execution_count": 54,
     "metadata": {},
     "output_type": "execute_result"
    }
   ],
   "source": [
    "\n",
    "menu('chrdonnary', 'chicken', 'cake')\n"
   ]
  },
  {
   "cell_type": "code",
   "execution_count": 55,
   "id": "2fee8313-e0ed-4b46-bd37-18e7b8c2a0df",
   "metadata": {},
   "outputs": [
    {
     "data": {
      "text/plain": [
       "{'wine': 'borderaux', 'entree': 'beef', 'dessert': 'bagel'}"
      ]
     },
     "execution_count": 55,
     "metadata": {},
     "output_type": "execute_result"
    }
   ],
   "source": [
    "\n",
    "menu(entree='beef', dessert='bagel', wine='borderaux')\n",
    "\n",
    " \n"
   ]
  },
  {
   "cell_type": "code",
   "execution_count": 56,
   "id": "ddc3ca95-eae4-4016-b61c-c21373c2910f",
   "metadata": {},
   "outputs": [
    {
     "data": {
      "text/plain": [
       "{'wine': 'frontenac', 'entree': 'fish', 'dessert': 'flan'}"
      ]
     },
     "execution_count": 56,
     "metadata": {},
     "output_type": "execute_result"
    }
   ],
   "source": [
    "\n",
    "menu('frontenac', dessert='flan', entree='fish')\n",
    "\n",
    " "
   ]
  },
  {
   "cell_type": "code",
   "execution_count": 57,
   "id": "1f8a5c07-a650-45c4-8518-a6a80a00c643",
   "metadata": {},
   "outputs": [],
   "source": [
    "\n",
    "def menu(wine, entree, dessert='pudding'):\n",
    "\n",
    "    return {'wine': wine, 'entree': entree, 'dessert': dessert}\n"
   ]
  },
  {
   "cell_type": "code",
   "execution_count": 58,
   "id": "94c8ec7e-d622-4b57-a8a2-7596ca51717a",
   "metadata": {},
   "outputs": [
    {
     "data": {
      "text/plain": [
       "{'wine': 'chardonnary', 'entree': 'chicken', 'dessert': 'pudding'}"
      ]
     },
     "execution_count": 58,
     "metadata": {},
     "output_type": "execute_result"
    }
   ],
   "source": [
    "\n",
    "menu('chardonnary', 'chicken')\n",
    "\n",
    " "
   ]
  },
  {
   "cell_type": "code",
   "execution_count": 59,
   "id": "6a3e6a95-3769-4e42-a092-03cba2ebfeb6",
   "metadata": {},
   "outputs": [
    {
     "data": {
      "text/plain": [
       "{'wine': 'dunkelfelder', 'entree': 'duck', 'dessert': 'doughnut'}"
      ]
     },
     "execution_count": 59,
     "metadata": {},
     "output_type": "execute_result"
    }
   ],
   "source": [
    "\n",
    "\n",
    "menu('dunkelfelder', 'duck', 'doughnut')\n",
    "\n",
    " "
   ]
  },
  {
   "cell_type": "code",
   "execution_count": 60,
   "id": "d21d9798-18ba-4048-a5d5-2a19c2ad55c8",
   "metadata": {},
   "outputs": [],
   "source": [
    "\n",
    "def menu(price, wine='chardonnary', entree='chicken', dessert='pudding'):\n",
    "\n",
    "    return {'price': price, 'wine':wine, 'entree':entree, 'dessert':dessert}\n"
   ]
  },
  {
   "cell_type": "code",
   "execution_count": 61,
   "id": "69c1b843-bc86-45ba-bb01-b3c9d610b272",
   "metadata": {},
   "outputs": [
    {
     "data": {
      "text/plain": [
       "{'price': 100,\n",
       " 'wine': 'chardonnary',\n",
       " 'entree': 'chicken',\n",
       " 'dessert': 'pudding'}"
      ]
     },
     "execution_count": 61,
     "metadata": {},
     "output_type": "execute_result"
    }
   ],
   "source": [
    "\n",
    "menu(100)\n",
    "\n",
    " "
   ]
  },
  {
   "cell_type": "code",
   "execution_count": 62,
   "id": "e491397f-7108-41e0-a7d3-4a6a56dc9b27",
   "metadata": {},
   "outputs": [
    {
     "data": {
      "text/plain": [
       "{'price': 100,\n",
       " 'wine': 'chardonnary',\n",
       " 'entree': 'chicken',\n",
       " 'dessert': 'pudding'}"
      ]
     },
     "execution_count": 62,
     "metadata": {},
     "output_type": "execute_result"
    }
   ],
   "source": [
    "\n",
    "menu(price=100)\n",
    "\n",
    " "
   ]
  },
  {
   "cell_type": "code",
   "execution_count": 63,
   "id": "aaa54905-c878-4d76-9417-fe638cf50c57",
   "metadata": {},
   "outputs": [
    {
     "data": {
      "text/plain": [
       "{'price': 120, 'wine': 'chardonnary', 'entree': 'beef', 'dessert': 'pudding'}"
      ]
     },
     "execution_count": 63,
     "metadata": {},
     "output_type": "execute_result"
    }
   ],
   "source": [
    " \n",
    "\n",
    "menu(price=120, entree='beef')\n",
    "\n",
    " "
   ]
  },
  {
   "cell_type": "code",
   "execution_count": 64,
   "id": "cd6e446f-0559-47a2-9940-8d927797f9df",
   "metadata": {},
   "outputs": [
    {
     "data": {
      "text/plain": [
       "{'price': 110, 'wine': 'chardonnary', 'entree': 'chicken', 'dessert': 'bagel'}"
      ]
     },
     "execution_count": 64,
     "metadata": {},
     "output_type": "execute_result"
    }
   ],
   "source": [
    "\n",
    "menu(dessert='bagel', price=110)\n",
    "\n",
    " "
   ]
  },
  {
   "cell_type": "code",
   "execution_count": 65,
   "id": "f3d3f660-944f-4d1f-bb04-ef500702a516",
   "metadata": {},
   "outputs": [
    {
     "data": {
      "text/plain": [
       "{'price': 'eighty',\n",
       " 'wine': 'saint-pierre',\n",
       " 'entree': 'fish',\n",
       " 'dessert': 'pudding'}"
      ]
     },
     "execution_count": 65,
     "metadata": {},
     "output_type": "execute_result"
    }
   ],
   "source": [
    "\n",
    "menu('eighty','saint-pierre', 'fish')\n"
   ]
  },
  {
   "cell_type": "code",
   "execution_count": 66,
   "id": "5ce75d8a-22d7-4a23-9b78-a8c7922bd8d2",
   "metadata": {},
   "outputs": [
    {
     "data": {
      "text/plain": [
       "{'price': 'hundred',\n",
       " 'wine': 'saint-pierre',\n",
       " 'entree': 'chicken',\n",
       " 'dessert': 'pudding'}"
      ]
     },
     "execution_count": 66,
     "metadata": {},
     "output_type": "execute_result"
    }
   ],
   "source": [
    " \n",
    "\n",
    "menu('hundred', wine='saint-pierre')\n"
   ]
  },
  {
   "cell_type": "code",
   "execution_count": 68,
   "id": "3e087dc4-81d2-4c3d-8d68-36bee9713458",
   "metadata": {},
   "outputs": [
    {
     "ename": "SyntaxError",
     "evalue": "positional argument follows keyword argument (2678731785.py, line 1)",
     "output_type": "error",
     "traceback": [
      "\u001b[1;36m  Cell \u001b[1;32mIn[68], line 1\u001b[1;36m\u001b[0m\n\u001b[1;33m    menu(price=100, 'saint-pierre')\u001b[0m\n\u001b[1;37m                                  ^\u001b[0m\n\u001b[1;31mSyntaxError\u001b[0m\u001b[1;31m:\u001b[0m positional argument follows keyword argument\n"
     ]
    }
   ],
   "source": [
    "\n",
    "menu(price=100, 'saint-pierre')\n",
    "\n",
    " \n",
    "\n",
    " "
   ]
  },
  {
   "cell_type": "code",
   "execution_count": 69,
   "id": "7cc1bf8e-ff39-429f-90cf-ffb7c3e507e9",
   "metadata": {},
   "outputs": [
    {
     "ename": "TypeError",
     "evalue": "menu() got multiple values for argument 'price'",
     "output_type": "error",
     "traceback": [
      "\u001b[1;31m---------------------------------------------------------------------------\u001b[0m",
      "\u001b[1;31mTypeError\u001b[0m                                 Traceback (most recent call last)",
      "Cell \u001b[1;32mIn[69], line 1\u001b[0m\n\u001b[1;32m----> 1\u001b[0m \u001b[43mmenu\u001b[49m\u001b[43m(\u001b[49m\u001b[38;5;241;43m100\u001b[39;49m\u001b[43m,\u001b[49m\u001b[43m \u001b[49m\u001b[43mprice\u001b[49m\u001b[38;5;241;43m=\u001b[39;49m\u001b[38;5;241;43m120\u001b[39;49m\u001b[43m)\u001b[49m\n",
      "\u001b[1;31mTypeError\u001b[0m: menu() got multiple values for argument 'price'"
     ]
    }
   ],
   "source": [
    "\n",
    "\n",
    "menu(100, price=120)\n"
   ]
  },
  {
   "cell_type": "code",
   "execution_count": 70,
   "id": "93815cae-1f50-4d30-8449-98393dba8f52",
   "metadata": {},
   "outputs": [
    {
     "ename": "TypeError",
     "evalue": "menu() got an unexpected keyword argument 'main'",
     "output_type": "error",
     "traceback": [
      "\u001b[1;31m---------------------------------------------------------------------------\u001b[0m",
      "\u001b[1;31mTypeError\u001b[0m                                 Traceback (most recent call last)",
      "Cell \u001b[1;32mIn[70], line 1\u001b[0m\n\u001b[1;32m----> 1\u001b[0m \u001b[43mmenu\u001b[49m\u001b[43m(\u001b[49m\u001b[43mmain\u001b[49m\u001b[38;5;241;43m=\u001b[39;49m\u001b[38;5;124;43m'\u001b[39;49m\u001b[38;5;124;43mcream pasta\u001b[39;49m\u001b[38;5;124;43m'\u001b[39;49m\u001b[43m)\u001b[49m\n",
      "\u001b[1;31mTypeError\u001b[0m: menu() got an unexpected keyword argument 'main'"
     ]
    }
   ],
   "source": [
    "\n",
    "\n",
    "menu(main='cream pasta')\n"
   ]
  },
  {
   "cell_type": "code",
   "execution_count": 98,
   "id": "f0fd55eb-569b-4456-9e75-1de839308b86",
   "metadata": {},
   "outputs": [],
   "source": [
    "\n",
    "\n",
    "def echo(anything):\n",
    "    'echo returns its input argument'\n",
    "    return anything"
   ]
  },
  {
   "cell_type": "code",
   "execution_count": 72,
   "id": "fc95fb0a-2834-4aa7-b46b-14eb493bef7a",
   "metadata": {},
   "outputs": [
    {
     "data": {
      "text/plain": [
       "1"
      ]
     },
     "execution_count": 72,
     "metadata": {},
     "output_type": "execute_result"
    }
   ],
   "source": [
    "\n",
    "\n",
    "echo(1)\n",
    "\n",
    " \n"
   ]
  },
  {
   "cell_type": "code",
   "execution_count": 73,
   "id": "cc4e67af-ffdb-4c3f-b814-0673b05f158d",
   "metadata": {},
   "outputs": [
    {
     "name": "stdout",
     "output_type": "stream",
     "text": [
      "Help on function echo in module __main__:\n",
      "\n",
      "echo(anything)\n",
      "    echo returns its input argument\n",
      "\n"
     ]
    }
   ],
   "source": [
    "\n",
    "help(echo)\n",
    "\n",
    " \n"
   ]
  },
  {
   "cell_type": "code",
   "execution_count": 99,
   "id": "6b6e3408-d904-41d3-ba28-cde10e57c86f",
   "metadata": {},
   "outputs": [],
   "source": [
    "\n",
    "def print_if_true(thing, check):\n",
    "    \"\"\"\n",
    "    Prints the first argument if a second argument is true.\n",
    "    The operation is:\n",
    "    1. Check whether the *second* argument is true.\n",
    "    2. If it is, print the *first* argument.\n",
    "    \"\"\"\n",
    "    if check:\n",
    "        print(thing)"
   ]
  },
  {
   "cell_type": "code",
   "execution_count": 100,
   "id": "b7afbf89-b50b-45b2-af03-fcb094896018",
   "metadata": {},
   "outputs": [
    {
     "name": "stdout",
     "output_type": "stream",
     "text": [
      "1\n"
     ]
    }
   ],
   "source": [
    "\n",
    "\n",
    "print_if_true(1, True)\n",
    "\n",
    " "
   ]
  },
  {
   "cell_type": "code",
   "execution_count": 101,
   "id": "ae7eb362-d1ff-44f0-a141-98e95d27e8cb",
   "metadata": {},
   "outputs": [
    {
     "name": "stdout",
     "output_type": "stream",
     "text": [
      "hahaha\n"
     ]
    }
   ],
   "source": [
    "\n",
    "print_if_true('hahaha', True)\n",
    "\n",
    " "
   ]
  },
  {
   "cell_type": "code",
   "execution_count": 102,
   "id": "ec6e0f08-57e2-4dcc-bbfb-8b042b91324d",
   "metadata": {},
   "outputs": [],
   "source": [
    "\n",
    "print_if_true('hahaha', False)\n",
    "\n",
    " "
   ]
  },
  {
   "cell_type": "code",
   "execution_count": 103,
   "id": "c4553523-0052-4ba5-9049-2a1f297ec195",
   "metadata": {},
   "outputs": [],
   "source": [
    "\n",
    "print_if_true('hahaha', 1==3)\n",
    "\n",
    " "
   ]
  },
  {
   "cell_type": "code",
   "execution_count": 104,
   "id": "11477ac2-edf7-49f2-999d-b77acb15f673",
   "metadata": {},
   "outputs": [
    {
     "name": "stdout",
     "output_type": "stream",
     "text": [
      "hahaha\n"
     ]
    }
   ],
   "source": [
    "\n",
    " \n",
    "\n",
    "print_if_true('hahaha', 1!=3)\n",
    "\n",
    " "
   ]
  },
  {
   "cell_type": "code",
   "execution_count": 105,
   "id": "25ffd55a-e7bd-4441-a397-c1cc9b977597",
   "metadata": {},
   "outputs": [
    {
     "name": "stdout",
     "output_type": "stream",
     "text": [
      "Help on function print_if_true in module __main__:\n",
      "\n",
      "print_if_true(thing, check)\n",
      "    Prints the first argument if a second argument is true.\n",
      "    The operation is:\n",
      "    1. Check whether the *second* argument is true.\n",
      "    2. If it is, print the *first* argument.\n",
      "\n"
     ]
    }
   ],
   "source": [
    "help(print_if_true)\n"
   ]
  },
  {
   "cell_type": "code",
   "execution_count": 107,
   "id": "47964e30-1aac-49ea-bcf4-3d7531c54c1e",
   "metadata": {},
   "outputs": [
    {
     "name": "stdout",
     "output_type": "stream",
     "text": [
      "Help on function echo in module __main__:\n",
      "\n",
      "echo(anything)\n",
      "    echo returns its input argument\n",
      "\n"
     ]
    }
   ],
   "source": [
    "help(echo)"
   ]
  },
  {
   "cell_type": "code",
   "execution_count": 108,
   "id": "2748f1cd-d5d8-4a3f-8ae7-bb972d000df7",
   "metadata": {},
   "outputs": [
    {
     "name": "stdout",
     "output_type": "stream",
     "text": [
      "echo returns its input argument\n"
     ]
    }
   ],
   "source": [
    "print(echo.__doc__)"
   ]
  },
  {
   "cell_type": "code",
   "execution_count": null,
   "id": "73a2f17f-418f-4e18-8f04-bb16c8bd26d4",
   "metadata": {},
   "outputs": [],
   "source": []
  }
 ],
 "metadata": {
  "kernelspec": {
   "display_name": "Python 3 (ipykernel)",
   "language": "python",
   "name": "python3"
  },
  "language_info": {
   "codemirror_mode": {
    "name": "ipython",
    "version": 3
   },
   "file_extension": ".py",
   "mimetype": "text/x-python",
   "name": "python",
   "nbconvert_exporter": "python",
   "pygments_lexer": "ipython3",
   "version": "3.11.5"
  }
 },
 "nbformat": 4,
 "nbformat_minor": 5
}
